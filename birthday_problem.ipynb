{
 "cells": [
  {
   "cell_type": "code",
   "execution_count": 7,
   "id": "4b5badc1-63ff-41e9-973b-b400ed4bd373",
   "metadata": {},
   "outputs": [
    {
     "name": "stdout",
     "output_type": "stream",
     "text": [
      "For a classroom of 5 people, there is a probability of : 0.0271 or 2.71% of a shared birthday.\n",
      "For a classroom of 10 people, there is a probability of : 0.1169 or 11.69% of a shared birthday.\n",
      "For a classroom of 15 people, there is a probability of : 0.2529 or 25.29% of a shared birthday.\n",
      "For a classroom of 20 people, there is a probability of : 0.4114 or 41.14% of a shared birthday.\n",
      "For a classroom of 25 people, there is a probability of : 0.5687 or 56.87% of a shared birthday.\n",
      "For a classroom of 30 people, there is a probability of : 0.7063 or 70.63% of a shared birthday.\n",
      "For a classroom of 35 people, there is a probability of : 0.8144 or 81.44% of a shared birthday.\n",
      "For a classroom of 40 people, there is a probability of : 0.8912 or 89.12% of a shared birthday.\n",
      "For a classroom of 45 people, there is a probability of : 0.9410 or 94.10% of a shared birthday.\n",
      "For a classroom of 50 people, there is a probability of : 0.9704 or 97.04% of a shared birthday.\n"
     ]
    }
   ],
   "source": [
    "import math \n",
    "\n",
    "def birthday_problem(n):\n",
    "    if n > 365:\n",
    "        return 1.0 # Pigeonhole principle : must be at least one birthday\n",
    "    numerator = math.factorial(365) # creating the factorial of 365\n",
    "    denominator = math.factorial(365 - n) * (365 ** n)\n",
    "    prob_no_shared = numerator/denominator # calculation the probabilities of no shared birthdays\n",
    "    prob_shared = 1 - prob_no_shared# subtracting the probability of no shared birthdays from total probability (1)\n",
    "    return prob_shared\n",
    "    \n",
    "\n",
    "for n in range (5,51,5):\n",
    "  print(f\"For a classroom of {n} people, there is a probability of : {birthday_problem(n):.4f} or {birthday_problem(n)*100:.2f}% of a shared birthday.\" )\n",
    "\n",
    "  \n",
    "    \n",
    "  "
   ]
  },
  {
   "cell_type": "code",
   "execution_count": null,
   "id": "b6e43b8c-35b0-40a4-9ba6-7c3e3951b697",
   "metadata": {},
   "outputs": [],
   "source": []
  }
 ],
 "metadata": {
  "kernelspec": {
   "display_name": "Python [conda env:base] *",
   "language": "python",
   "name": "conda-base-py"
  },
  "language_info": {
   "codemirror_mode": {
    "name": "ipython",
    "version": 3
   },
   "file_extension": ".py",
   "mimetype": "text/x-python",
   "name": "python",
   "nbconvert_exporter": "python",
   "pygments_lexer": "ipython3",
   "version": "3.11.5"
  }
 },
 "nbformat": 4,
 "nbformat_minor": 5
}

{
 "cells": [
  {
   "cell_type": "code",
   "execution_count": 33,
   "id": "25eee079-9767-43a8-b7a0-d01daacadfaf",
   "metadata": {},
   "outputs": [
    {
     "name": "stdin",
     "output_type": "stream",
     "text": [
      "Provide the number here:  0.969\n"
     ]
    },
    {
     "name": "stdout",
     "output_type": "stream",
     "text": [
      "75.69635127836945\n"
     ]
    }
   ],
   "source": [
    "import math\n",
    "user_input = float(input(\"Provide the number here: \"))\n",
    "print(math.degrees(math.asin(user_input)))"
   ]
  },
  {
   "cell_type": "code",
   "execution_count": 7,
   "id": "576f0ae7-9371-44d7-9f89-d2a3cc62a004",
   "metadata": {},
   "outputs": [
    {
     "data": {
      "text/plain": [
       "81.78999999999999"
      ]
     },
     "execution_count": 7,
     "metadata": {},
     "output_type": "execute_result"
    }
   ],
   "source": [
    "180-(58.21+40)\n"
   ]
  },
  {
   "cell_type": "code",
   "execution_count": 31,
   "id": "8e002a59-0cd2-4c16-a0a0-15f1051d6198",
   "metadata": {},
   "outputs": [
    {
     "name": "stdin",
     "output_type": "stream",
     "text": [
      "Provide the number here:  29\n"
     ]
    },
    {
     "name": "stdout",
     "output_type": "stream",
     "text": [
      "-0.6636338842129675\n"
     ]
    }
   ],
   "source": [
    "user_input = float(input(\"Provide the number here: \"))\n",
    "print(math.sin(user_input))\n"
   ]
  },
  {
   "cell_type": "code",
   "execution_count": 23,
   "id": "bd46c1d9-c895-471f-85fe-6f9595dde3bf",
   "metadata": {},
   "outputs": [],
   "source": [
    "A = (math.degrees(math.asin((13/21)*(math.sin(math.radians(52))))))"
   ]
  },
  {
   "cell_type": "code",
   "execution_count": 25,
   "id": "71c73f50-f127-4712-b5a8-51561aaef548",
   "metadata": {},
   "outputs": [
    {
     "name": "stdout",
     "output_type": "stream",
     "text": [
      "29.197146262575117\n"
     ]
    }
   ],
   "source": [
    "print(A)"
   ]
  },
  {
   "cell_type": "code",
   "execution_count": 29,
   "id": "cf13a34c-8b3b-4c4b-ac32-28c6e945a2da",
   "metadata": {},
   "outputs": [
    {
     "name": "stdout",
     "output_type": "stream",
     "text": [
      "29.197146262575117\n"
     ]
    }
   ],
   "source": [
    "A = (math.degrees(math.asin((13/21)*(math.sin(math.radians(52))))))\n",
    "print(A)"
   ]
  },
  {
   "cell_type": "code",
   "execution_count": null,
   "id": "f4fe84f1-8c40-4edb-9741-bc19fdcb617b",
   "metadata": {},
   "outputs": [],
   "source": []
  }
 ],
 "metadata": {
  "kernelspec": {
   "display_name": "Python [conda env:base] *",
   "language": "python",
   "name": "conda-base-py"
  },
  "language_info": {
   "codemirror_mode": {
    "name": "ipython",
    "version": 3
   },
   "file_extension": ".py",
   "mimetype": "text/x-python",
   "name": "python",
   "nbconvert_exporter": "python",
   "pygments_lexer": "ipython3",
   "version": "3.11.5"
  }
 },
 "nbformat": 4,
 "nbformat_minor": 5
}
